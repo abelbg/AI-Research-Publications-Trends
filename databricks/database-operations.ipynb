{
 "cells": [
  {
   "cell_type": "markdown",
   "metadata": {
    "application/vnd.databricks.v1+cell": {
     "cellMetadata": {},
     "inputWidgets": {},
     "nuid": "9e708179-5b4f-4315-a953-ef7a323c2a20",
     "showTitle": false,
     "title": ""
    }
   },
   "source": [
    "# Analyzing Trends in AI Research Publication:\n",
    "# Database Operations\n",
    "\n",
    "The following notebook is used to facilitate the managment of the database used in this project. It is not necessary to run this notebook to use the other notebooks in this project. It is only necessary to run it if you want to reset the database to its original state.\n",
    "\n",
    "> It includes DROP TABLE statements, so be careful!\n",
    "---"
   ]
  },
  {
   "cell_type": "markdown",
   "metadata": {
    "application/vnd.databricks.v1+cell": {
     "cellMetadata": {},
     "inputWidgets": {},
     "nuid": "1996bbd8-497e-4043-bd2f-5e76e5f9f39a",
     "showTitle": false,
     "title": ""
    }
   },
   "source": [
    "## List tables of the Arxiv database"
   ]
  },
  {
   "cell_type": "code",
   "execution_count": null,
   "metadata": {
    "application/vnd.databricks.v1+cell": {
     "cellMetadata": {
      "byteLimit": 2048000,
      "rowLimit": 10000
     },
     "inputWidgets": {},
     "nuid": "433bfd00-d3ad-46b5-af8d-14437c4b7930",
     "showTitle": false,
     "title": ""
    }
   },
   "outputs": [],
   "source": [
    "spark.sql(\"USE arxiv\")"
   ]
  },
  {
   "cell_type": "code",
   "execution_count": null,
   "metadata": {
    "application/vnd.databricks.v1+cell": {
     "cellMetadata": {
      "byteLimit": 2048000,
      "rowLimit": 10000
     },
     "inputWidgets": {},
     "nuid": "4f5fdb1e-25a9-4634-852e-cb3fc97b4d11",
     "showTitle": false,
     "title": ""
    }
   },
   "outputs": [],
   "source": [
    "tables = [t.name for t in spark.catalog.listTables()]\n",
    "print(tables)"
   ]
  },
  {
   "cell_type": "markdown",
   "metadata": {
    "application/vnd.databricks.v1+cell": {
     "cellMetadata": {},
     "inputWidgets": {},
     "nuid": "3eb9b0e5-648e-40da-aedd-17ac772c795c",
     "showTitle": false,
     "title": ""
    }
   },
   "source": [
    "## Drop individual tables"
   ]
  },
  {
   "cell_type": "code",
   "execution_count": null,
   "metadata": {
    "application/vnd.databricks.v1+cell": {
     "cellMetadata": {
      "byteLimit": 2048000,
      "rowLimit": 10000
     },
     "inputWidgets": {},
     "nuid": "16f308f5-9e17-4622-b966-1ae9b8d2b06e",
     "showTitle": false,
     "title": ""
    }
   },
   "outputs": [],
   "source": [
    "spark.sql(f\"DROP TABLE IF EXISTS publications_by_day\")"
   ]
  },
  {
   "cell_type": "markdown",
   "metadata": {
    "application/vnd.databricks.v1+cell": {
     "cellMetadata": {},
     "inputWidgets": {},
     "nuid": "2650d595-8d98-406d-b49b-06cced6bd13c",
     "showTitle": false,
     "title": ""
    }
   },
   "source": [
    "## Drop all tables in the database"
   ]
  },
  {
   "cell_type": "code",
   "execution_count": null,
   "metadata": {
    "application/vnd.databricks.v1+cell": {
     "cellMetadata": {
      "byteLimit": 2048000,
      "rowLimit": 10000
     },
     "inputWidgets": {},
     "nuid": "e18d2bf2-05e2-468a-835d-82aba3e0fa48",
     "showTitle": false,
     "title": ""
    }
   },
   "outputs": [],
   "source": [
    "# USE WITH CAUTION\n",
    "# Drop each table\n",
    "for table in tables:\n",
    "    spark.sql(f\"DROP TABLE IF EXISTS {table}\")\n",
    "    print(f\"Table {table} dropped.\")"
   ]
  }
 ],
 "metadata": {
  "application/vnd.databricks.v1+notebook": {
   "dashboards": [],
   "language": "python",
   "notebookMetadata": {
    "pythonIndentUnit": 4
   },
   "notebookName": "database-operations",
   "widgets": {}
  },
  "language_info": {
   "name": "python"
  }
 },
 "nbformat": 4,
 "nbformat_minor": 0
}
